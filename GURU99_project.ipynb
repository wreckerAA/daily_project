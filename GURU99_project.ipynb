{
 "cells": [
  {
   "cell_type": "code",
   "execution_count": 9,
   "id": "fcf3af4c-03db-421e-9d7e-85ccd66ccf6c",
   "metadata": {},
   "outputs": [
    {
     "name": "stdout",
     "output_type": "stream",
     "text": [
      "Collecting matplotlib\n",
      "  Downloading matplotlib-3.10.3-cp313-cp313-macosx_11_0_arm64.whl.metadata (11 kB)\n",
      "Collecting contourpy>=1.0.1 (from matplotlib)\n",
      "  Downloading contourpy-1.3.2-cp313-cp313-macosx_11_0_arm64.whl.metadata (5.5 kB)\n",
      "Collecting cycler>=0.10 (from matplotlib)\n",
      "  Using cached cycler-0.12.1-py3-none-any.whl.metadata (3.8 kB)\n",
      "Collecting fonttools>=4.22.0 (from matplotlib)\n",
      "  Downloading fonttools-4.58.2-cp313-cp313-macosx_10_13_universal2.whl.metadata (106 kB)\n",
      "Collecting kiwisolver>=1.3.1 (from matplotlib)\n",
      "  Downloading kiwisolver-1.4.8-cp313-cp313-macosx_11_0_arm64.whl.metadata (6.2 kB)\n",
      "Requirement already satisfied: numpy>=1.23 in /opt/homebrew/lib/python3.13/site-packages (from matplotlib) (2.2.6)\n",
      "Requirement already satisfied: packaging>=20.0 in /opt/homebrew/Cellar/jupyterlab/4.4.3/libexec/lib/python3.13/site-packages (from matplotlib) (25.0)\n",
      "Collecting pillow>=8 (from matplotlib)\n",
      "  Downloading pillow-11.2.1-cp313-cp313-macosx_11_0_arm64.whl.metadata (8.9 kB)\n",
      "Collecting pyparsing>=2.3.1 (from matplotlib)\n",
      "  Downloading pyparsing-3.2.3-py3-none-any.whl.metadata (5.0 kB)\n",
      "Requirement already satisfied: python-dateutil>=2.7 in /opt/homebrew/Cellar/jupyterlab/4.4.3/libexec/lib/python3.13/site-packages (from matplotlib) (2.9.0.post0)\n",
      "Requirement already satisfied: six>=1.5 in /opt/homebrew/Cellar/jupyterlab/4.4.3/libexec/lib/python3.13/site-packages (from python-dateutil>=2.7->matplotlib) (1.17.0)\n",
      "Downloading matplotlib-3.10.3-cp313-cp313-macosx_11_0_arm64.whl (8.1 MB)\n",
      "\u001b[2K   \u001b[90m━━━━━━━━━━━━━━━━━━━━━━━━━━━━━━━━━━━━━━━━\u001b[0m \u001b[32m8.1/8.1 MB\u001b[0m \u001b[31m831.0 kB/s\u001b[0m eta \u001b[36m0:00:00\u001b[0m00:01\u001b[0m00:01\u001b[0m\n",
      "\u001b[?25hDownloading contourpy-1.3.2-cp313-cp313-macosx_11_0_arm64.whl (255 kB)\n",
      "Using cached cycler-0.12.1-py3-none-any.whl (8.3 kB)\n",
      "Downloading fonttools-4.58.2-cp313-cp313-macosx_10_13_universal2.whl (2.7 MB)\n",
      "\u001b[2K   \u001b[90m━━━━━━━━━━━━━━━━━━━━━━━━━━━━━━━━━━━━━━━━\u001b[0m \u001b[32m2.7/2.7 MB\u001b[0m \u001b[31m1.1 MB/s\u001b[0m eta \u001b[36m0:00:00\u001b[0ma \u001b[36m0:00:01\u001b[0m\n",
      "\u001b[?25hDownloading kiwisolver-1.4.8-cp313-cp313-macosx_11_0_arm64.whl (65 kB)\n",
      "Downloading pillow-11.2.1-cp313-cp313-macosx_11_0_arm64.whl (3.0 MB)\n",
      "\u001b[2K   \u001b[90m━━━━━━━━━━━━━━━━━━━━━━━━━━━━━━━━━━━━━━━━\u001b[0m \u001b[32m3.0/3.0 MB\u001b[0m \u001b[31m218.8 kB/s\u001b[0m eta \u001b[36m0:00:00\u001b[0ma \u001b[36m0:00:01\u001b[0m\n",
      "\u001b[?25hDownloading pyparsing-3.2.3-py3-none-any.whl (111 kB)\n",
      "Installing collected packages: pyparsing, pillow, kiwisolver, fonttools, cycler, contourpy, matplotlib\n",
      "\u001b[2K   \u001b[90m━━━━━━━━━━━━━━━━━━━━━━━━━━━━━━━━━━━━━━━━\u001b[0m \u001b[32m7/7\u001b[0m [matplotlib]7\u001b[0m [matplotlib]\n",
      "\u001b[1A\u001b[2KSuccessfully installed contourpy-1.3.2 cycler-0.12.1 fonttools-4.58.2 kiwisolver-1.4.8 matplotlib-3.10.3 pillow-11.2.1 pyparsing-3.2.3\n",
      "Note: you may need to restart the kernel to use updated packages.\n"
     ]
    }
   ],
   "source": [
    "%pip install matplotlib"
   ]
  },
  {
   "cell_type": "code",
   "execution_count": null,
   "id": "42d0306e-b62d-4350-a6d0-15d6dd21f781",
   "metadata": {},
   "outputs": [],
   "source": [
    "import matplotlib.pyplot as plt"
   ]
  },
  {
   "cell_type": "code",
   "execution_count": 7,
   "id": "72fec53e-df5b-4a0d-a7e4-6f73dd9e305d",
   "metadata": {},
   "outputs": [
    {
     "name": "stdout",
     "output_type": "stream",
     "text": [
      "A Simple Data Analysis Program\n",
      "\n",
      "All data from Emissions.csv has been written into a dictionary\n",
      "\n"
     ]
    }
   ],
   "source": [
    "#DAY - 1\n",
    "\n",
    "print(\"A Simple Data Analysis Program\", end=\"\\n\\n\")\n",
    "emissions_dict = {} #dictionary\n",
    "\n",
    "with open(\"Emissions.csv\", \"r\") as file :\n",
    "    for data in file.read().split(\"\\n\") :\n",
    "        emissions_dict.update({data.split(\",\")[0] : data.split(\",\")[1:]})\n",
    "\n",
    "# for x, y in emissions_dict.items() : \n",
    "#     print(x, end=\" - \")\n",
    "#     print(y)\n",
    "\n",
    "print(\"All data from Emissions.csv has been written into a dictionary\", end=\"\\n\\n\")"
   ]
  },
  {
   "cell_type": "code",
   "execution_count": 5,
   "id": "19f6ee85-dc58-47f7-a031-6e77606a4c09",
   "metadata": {},
   "outputs": [
    {
     "name": "stdin",
     "output_type": "stream",
     "text": [
      "Select a year to find statistics (1997 to 2010):  1997\n"
     ]
    },
    {
     "name": "stdout",
     "output_type": "stream",
     "text": [
      "In 1997, countries with minimum and maximum CO2 emission levels were: [Chad] and [Qatar] respectively.\n",
      "Average CO2 emissions in 1997 were 4.958985\n",
      "\n"
     ]
    }
   ],
   "source": [
    "# DAY - 2\n",
    "\n",
    "input_year = input(\"Select a year to find statistics (1997 to 2010): \")\n",
    "\n",
    "index_of = None\n",
    "lines = []\n",
    "\n",
    "for item in next(iter(emissions_dict.values())):\n",
    "    if input_year in item:\n",
    "        index_of = (item.index(input_year))\n",
    "\n",
    "total = 0\n",
    "i = 0\n",
    "emissions_in_year = []\n",
    "\n",
    "for value in emissions_dict.values():\n",
    "    if i != 0:\n",
    "        total += float(value[index_of])\n",
    "        emissions_in_year.append(list(emissions_dict.values())[i][index_of])\n",
    "    i += 1\n",
    "\n",
    "max_country_index = int(emissions_in_year.index(str(max(float(str_value) for str_value in emissions_in_year))))\n",
    "min_country_index = int(emissions_in_year.index(str(min(float(str_value) for str_value in emissions_in_year))))\n",
    "average_emissions = total / 195\n",
    "\n",
    "max_emission = list(emissions_dict.keys())[max_country_index + 1]\n",
    "min_emission = list(emissions_dict.keys())[min_country_index + 1]\n",
    "\n",
    "print(f'In {input_year}, countries with minimum and maximum CO2 emission levels were: [{min_emission}] '\n",
    "      f'and [{max_emission}] respectively.')\n",
    "print(f'Average CO2 emissions in {input_year} were {\"%.6f\" % round(average_emissions, 6)}', end=\"\\n\\n\")"
   ]
  },
  {
   "cell_type": "code",
   "execution_count": 8,
   "id": "0ac228c0-340d-4dda-b6b6-cc5008d2c90f",
   "metadata": {},
   "outputs": [
    {
     "ename": "ModuleNotFoundError",
     "evalue": "No module named 'matplotlib'",
     "output_type": "error",
     "traceback": [
      "\u001b[31m---------------------------------------------------------------------------\u001b[39m",
      "\u001b[31mModuleNotFoundError\u001b[39m                       Traceback (most recent call last)",
      "\u001b[36mCell\u001b[39m\u001b[36m \u001b[39m\u001b[32mIn[8]\u001b[39m\u001b[32m, line 1\u001b[39m\n\u001b[32m----> \u001b[39m\u001b[32m1\u001b[39m \u001b[38;5;28;01mimport\u001b[39;00m\u001b[38;5;250m \u001b[39m\u001b[34;01mmatplotlib\u001b[39;00m\u001b[34;01m.\u001b[39;00m\u001b[34;01mpyplot\u001b[39;00m\u001b[38;5;250m \u001b[39m\u001b[38;5;28;01mas\u001b[39;00m\u001b[38;5;250m \u001b[39m\u001b[34;01mplt\u001b[39;00m\n\u001b[32m      3\u001b[39m visualize_country = \u001b[38;5;28minput\u001b[39m(\u001b[33m\"\u001b[39m\u001b[33mSelect the country to visualize: \u001b[39m\u001b[33m\"\u001b[39m)\n\u001b[32m      6\u001b[39m number = \u001b[38;5;28mlist\u001b[39m(emissions_dict.keys()).index(visualize_country)\n",
      "\u001b[31mModuleNotFoundError\u001b[39m: No module named 'matplotlib'"
     ]
    }
   ],
   "source": [
    "#DAY - 3\n",
    "\n",
    "visualize_country = input(\"Select the country to visualize: \")\n",
    "\n",
    "\n",
    "number = list(emissions_dict.keys()).index(visualize_country)\n",
    "\n",
    "plt.plot(list(map(float, list(emissions_dict.values())[0])),\n",
    "         list(map(float, list(emissions_dict.values())[number])))\n",
    "\n",
    "plt.title(\"Year vs Emissions in Capita\")\n",
    "plt.xlabel(\"Year\")\n",
    "plt.ylabel(\"Emissions in \" + visualize_country.title())\n",
    "plt.show()\n",
    "print()\n"
   ]
  }
 ],
 "metadata": {
  "kernelspec": {
   "display_name": "Python 3 (ipykernel)",
   "language": "python",
   "name": "python3"
  },
  "language_info": {
   "codemirror_mode": {
    "name": "ipython",
    "version": 3
   },
   "file_extension": ".py",
   "mimetype": "text/x-python",
   "name": "python",
   "nbconvert_exporter": "python",
   "pygments_lexer": "ipython3",
   "version": "3.13.3"
  }
 },
 "nbformat": 4,
 "nbformat_minor": 5
}
