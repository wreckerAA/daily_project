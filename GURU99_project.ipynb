{
 "cells": [
  {
   "cell_type": "code",
   "execution_count": 1,
   "id": "72fec53e-df5b-4a0d-a7e4-6f73dd9e305d",
   "metadata": {},
   "outputs": [
    {
     "name": "stdout",
     "output_type": "stream",
     "text": [
      "A Simple Data Analysis Program\n",
      "\n",
      "All data from Emissions.csv has been written into a dictionary\n",
      "\n"
     ]
    }
   ],
   "source": [
    "#DAY - 1\n",
    "\n",
    "print(\"A Simple Data Analysis Program\", end=\"\\n\\n\")\n",
    "emissions_dict = {} #dictionary\n",
    "\n",
    "with open(\"Emissions.csv\", \"r\") as file :\n",
    "    for data in file.read().split(\"\\n\") :\n",
    "        emissions_dict.update({data.split(\",\")[0] : data.split(\",\")[1:]})\n",
    "\n",
    "# for x, y in emissions_dict.items() : \n",
    "#     print(x, end=\" - \")\n",
    "#     print(y)\n",
    "\n",
    "print(\"All data from Emissions.csv has been written into a dictionary\", end=\"\\n\\n\")"
   ]
  },
  {
   "cell_type": "code",
   "execution_count": 4,
   "id": "19f6ee85-dc58-47f7-a031-6e77606a4c09",
   "metadata": {},
   "outputs": [
    {
     "name": "stdin",
     "output_type": "stream",
     "text": [
      "Select a year to find statistics (1997 to 2010):  1997\n"
     ]
    },
    {
     "ename": "NameError",
     "evalue": "name 'emission_dict' is not defined",
     "output_type": "error",
     "traceback": [
      "\u001b[31m---------------------------------------------------------------------------\u001b[39m",
      "\u001b[31mNameError\u001b[39m                                 Traceback (most recent call last)",
      "\u001b[36mCell\u001b[39m\u001b[36m \u001b[39m\u001b[32mIn[4]\u001b[39m\u001b[32m, line 26\u001b[39m\n\u001b[32m     23\u001b[39m min_country_index = \u001b[38;5;28mint\u001b[39m(emissions_in_year.index(\u001b[38;5;28mstr\u001b[39m(\u001b[38;5;28mmin\u001b[39m(\u001b[38;5;28mfloat\u001b[39m(str_value) \u001b[38;5;28;01mfor\u001b[39;00m str_value \u001b[38;5;129;01min\u001b[39;00m emissions_in_year))))\n\u001b[32m     24\u001b[39m average_emissions = total / \u001b[32m195\u001b[39m\n\u001b[32m---> \u001b[39m\u001b[32m26\u001b[39m max_emission = \u001b[38;5;28mlist\u001b[39m(\u001b[43memission_dict\u001b[49m.keys())[max_country_index + \u001b[32m1\u001b[39m]\n\u001b[32m     27\u001b[39m min_emission = \u001b[38;5;28mlist\u001b[39m(emission_dict.keys())[min_country_index + \u001b[32m1\u001b[39m]\n\u001b[32m     29\u001b[39m \u001b[38;5;28mprint\u001b[39m(\u001b[33mf\u001b[39m\u001b[33m'\u001b[39m\u001b[33mIn \u001b[39m\u001b[38;5;132;01m{\u001b[39;00minput_year\u001b[38;5;132;01m}\u001b[39;00m\u001b[33m, countries with minimum and maximum CO2 emission levels were: [\u001b[39m\u001b[38;5;132;01m{\u001b[39;00mmin_emission\u001b[38;5;132;01m}\u001b[39;00m\u001b[33m] \u001b[39m\u001b[33m'\u001b[39m\n\u001b[32m     30\u001b[39m       \u001b[33mf\u001b[39m\u001b[33m'\u001b[39m\u001b[33mand [\u001b[39m\u001b[38;5;132;01m{\u001b[39;00mmax_emission\u001b[38;5;132;01m}\u001b[39;00m\u001b[33m] respectively.\u001b[39m\u001b[33m'\u001b[39m)\n",
      "\u001b[31mNameError\u001b[39m: name 'emission_dict' is not defined"
     ]
    }
   ],
   "source": [
    "# DAY - 2\n",
    "\n",
    "input_year = input(\"Select a year to find statistics (1997 to 2010): \")\n",
    "\n",
    "index_of = None\n",
    "lines = []\n",
    "\n",
    "for item in next(iter(emissions_dict.values())):\n",
    "    if input_year in item:\n",
    "        index_of = (item.index(input_year))\n",
    "\n",
    "total = 0\n",
    "i = 0\n",
    "emissions_in_year = []\n",
    "\n",
    "for value in emissions_dict.values():\n",
    "    if i != 0:\n",
    "        total += float(value[index_of])\n",
    "        emissions_in_year.append(list(emissions_dict.values())[i][index_of])\n",
    "    i += 1\n",
    "\n",
    "max_country_index = int(emissions_in_year.index(str(max(float(str_value) for str_value in emissions_in_year))))\n",
    "min_country_index = int(emissions_in_year.index(str(min(float(str_value) for str_value in emissions_in_year))))\n",
    "average_emissions = total / 195\n",
    "\n",
    "max_emission = list(emission_dict.keys())[max_country_index + 1]\n",
    "min_emission = list(emission_dict.keys())[min_country_index + 1]\n",
    "\n",
    "print(f'In {input_year}, countries with minimum and maximum CO2 emission levels were: [{min_emission}] '\n",
    "      f'and [{max_emission}] respectively.')\n",
    "print(f'Average CO2 emissions in {input_year} were {\"%.6f\" % round(average_emissions, 6)}', end=\"\\n\\n\")"
   ]
  },
  {
   "cell_type": "code",
   "execution_count": null,
   "id": "0ac228c0-340d-4dda-b6b6-cc5008d2c90f",
   "metadata": {},
   "outputs": [],
   "source": []
  }
 ],
 "metadata": {
  "kernelspec": {
   "display_name": "Python 3 (ipykernel)",
   "language": "python",
   "name": "python3"
  },
  "language_info": {
   "codemirror_mode": {
    "name": "ipython",
    "version": 3
   },
   "file_extension": ".py",
   "mimetype": "text/x-python",
   "name": "python",
   "nbconvert_exporter": "python",
   "pygments_lexer": "ipython3",
   "version": "3.13.3"
  }
 },
 "nbformat": 4,
 "nbformat_minor": 5
}
